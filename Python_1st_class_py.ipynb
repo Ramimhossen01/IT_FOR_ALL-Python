{
  "nbformat": 4,
  "nbformat_minor": 0,
  "metadata": {
    "colab": {
      "provenance": [],
      "history_visible": true,
      "authorship_tag": "ABX9TyOXETpLfuYMNlsmGc0r+KpW",
      "include_colab_link": true
    },
    "kernelspec": {
      "name": "python3",
      "display_name": "Python 3"
    },
    "language_info": {
      "name": "python"
    }
  },
  "cells": [
    {
      "cell_type": "markdown",
      "metadata": {
        "id": "view-in-github",
        "colab_type": "text"
      },
      "source": [
        "<a href=\"https://colab.research.google.com/github/Ramimhossen01/IT_FOR_ALL-Python/blob/main/Python_1st_class_py.ipynb\" target=\"_parent\"><img src=\"https://colab.research.google.com/assets/colab-badge.svg\" alt=\"Open In Colab\"/></a>"
      ]
    },
    {
      "cell_type": "code",
      "source": [
        "print(\"hello world\")\n",
        "print(\"hello world\")"
      ],
      "metadata": {
        "colab": {
          "base_uri": "https://localhost:8080/"
        },
        "id": "Vd8fmRdnARsZ",
        "outputId": "1c05fe77-6348-4ea9-ccb1-8c98b2d59bae"
      },
      "execution_count": 11,
      "outputs": [
        {
          "output_type": "stream",
          "name": "stdout",
          "text": [
            "hello world\n",
            "hello world\n"
          ]
        }
      ]
    },
    {
      "cell_type": "code",
      "source": [
        "# Sentence=\"My name is\"\n",
        "print(Sentence)"
      ],
      "metadata": {
        "colab": {
          "base_uri": "https://localhost:8080/"
        },
        "id": "6llT3WtcCk4n",
        "outputId": "fda3c249-67cf-4f88-a2cd-e910e0af50ab"
      },
      "execution_count": 17,
      "outputs": [
        {
          "output_type": "stream",
          "name": "stdout",
          "text": [
            "My name is\n"
          ]
        }
      ]
    },
    {
      "cell_type": "code",
      "source": [
        "Myage=21\n",
        "mysalary=5000\n",
        "myname=\"Ramim\"\n",
        "print(Myage)\n",
        "print(mysalary)\n",
        "print(myname)\n",
        "print(Myage,mysalary,myname)"
      ],
      "metadata": {
        "colab": {
          "base_uri": "https://localhost:8080/"
        },
        "id": "vsmhK9dGDQRq",
        "outputId": "9f031669-1c19-419b-a1ab-ef091c340c30"
      },
      "execution_count": 20,
      "outputs": [
        {
          "output_type": "stream",
          "name": "stdout",
          "text": [
            "21\n",
            "5000\n",
            "Ramim\n",
            "21 5000 Ramim\n"
          ]
        }
      ]
    },
    {
      "cell_type": "code",
      "source": [
        "\n",
        "# Type in python\n",
        "Myage=21\n",
        "mysalary=5000\n",
        "myname=\"Ramim\"\n",
        "print(type(Myage))\n",
        "print(type(mysalary))\n",
        "print(type(myname))\n",
        "print(Myage,mysalary,myname)\n",
        "\n"
      ],
      "metadata": {
        "colab": {
          "base_uri": "https://localhost:8080/"
        },
        "id": "AeZ9wPFkEVjK",
        "outputId": "4e57be5c-900a-4d14-bb10-c1c860b821a9"
      },
      "execution_count": 25,
      "outputs": [
        {
          "output_type": "stream",
          "name": "stdout",
          "text": [
            "<class 'int'>\n",
            "<class 'int'>\n",
            "<class 'str'>\n",
            "21 5000 Ramim\n"
          ]
        }
      ]
    },
    {
      "cell_type": "code",
      "source": [
        "# Multiple assignment\n",
        "a=b=c=10\n",
        "print(a,b,c)"
      ],
      "metadata": {
        "colab": {
          "base_uri": "https://localhost:8080/"
        },
        "id": "ii4Sn1fTFifI",
        "outputId": "0c0b43bf-36c4-45cf-8108-57829c12b70e"
      },
      "execution_count": 26,
      "outputs": [
        {
          "output_type": "stream",
          "name": "stdout",
          "text": [
            "10 10 10\n"
          ]
        }
      ]
    }
  ]
}